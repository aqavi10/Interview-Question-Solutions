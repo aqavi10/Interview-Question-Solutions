{
 "cells": [
  {
   "cell_type": "markdown",
   "metadata": {},
   "source": [
    "Create a function that generates the power set given a set of values.\n",
    "\n",
    "For example, if you're given the following set:\n",
    "\n",
    "set = {1, 2, 3}\n",
    "Your function should the corresponding power set (note this can be a formatted as a list of lists):\n",
    "\n",
    "power set = [[], [1], [2], [1, 2], [3], [1, 3], [2, 3], [1, 2, 3]]"
   ]
  },
  {
   "cell_type": "code",
   "execution_count": 179,
   "metadata": {},
   "outputs": [],
   "source": [
    "#Amateur way of attempting it\n",
    "\n",
    "\n",
    "\n",
    "def powerset(set):\n",
    "    p=[[]]\n",
    "    for i in range(len(set)): \n",
    "        pset=[set[i]] #Listing the numbers individually , eg. : [1] ,[2]\n",
    "        p.append(pset)\n",
    "        if(i!=len(set)-1):\n",
    "#Listing the numbers in pair until the index reaches the last element of the list,eg. :[1,2],[2,3],[3,4]            \n",
    "            p2set=[set[i],set[i+1]] \n",
    "            p.append(p2set)\n",
    "        else:\n",
    "            m=i\n",
    "#This loop adds the last element pairs with remaining numbers in the list and then makes pairs with the\n",
    "#second last element and so on...\n",
    "            for m in range(i,-1,-1): \n",
    "                for j in range(m):\n",
    "                    if(j!=m):\n",
    "                        p3set=[set[j],set[m]]\n",
    "                        if(p3set in p):\n",
    "                            p\n",
    "                        else:\n",
    "                            p.append(p3set) \n",
    "    p.append(set)\n",
    "    p.sort(key=len)\n",
    "    return(p)"
   ]
  },
  {
   "cell_type": "code",
   "execution_count": 181,
   "metadata": {},
   "outputs": [
    {
     "name": "stdout",
     "output_type": "stream",
     "text": [
      "The power set combination of all elements are :  [[], [1], [2], [3], [4], [5], [6], [7], [1, 2], [2, 3], [3, 4], [4, 5], [5, 6], [6, 7], [1, 7], [2, 7], [3, 7], [4, 7], [5, 7], [1, 6], [2, 6], [3, 6], [4, 6], [1, 5], [2, 5], [3, 5], [1, 4], [2, 4], [1, 3], [1, 2, 3, 4, 5, 6, 7]]\n"
     ]
    }
   ],
   "source": [
    "test=[1,2,3,4,5,6,7]\n",
    "a=powerset(test)\n",
    "print(\"The power set combination of all elements are : \",a)"
   ]
  },
  {
   "cell_type": "code",
   "execution_count": 91,
   "metadata": {},
   "outputs": [
    {
     "name": "stdout",
     "output_type": "stream",
     "text": [
      "[]\n",
      "[1]\n",
      "[2]\n",
      "[1, 2]\n",
      "[3]\n",
      "[1, 3]\n",
      "[2, 3]\n",
      "[1, 2, 3]\n",
      "[4]\n",
      "[1, 4]\n",
      "[2, 4]\n",
      "[1, 2, 4]\n",
      "[3, 4]\n",
      "[1, 3, 4]\n",
      "[2, 3, 4]\n",
      "[1, 2, 3, 4]\n",
      "[5]\n",
      "[1, 5]\n",
      "[2, 5]\n",
      "[1, 2, 5]\n",
      "[3, 5]\n",
      "[1, 3, 5]\n",
      "[2, 3, 5]\n",
      "[1, 2, 3, 5]\n",
      "[4, 5]\n",
      "[1, 4, 5]\n",
      "[2, 4, 5]\n",
      "[1, 2, 4, 5]\n",
      "[3, 4, 5]\n",
      "[1, 3, 4, 5]\n",
      "[2, 3, 4, 5]\n",
      "[1, 2, 3, 4, 5]\n",
      "[6]\n",
      "[1, 6]\n",
      "[2, 6]\n",
      "[1, 2, 6]\n",
      "[3, 6]\n",
      "[1, 3, 6]\n",
      "[2, 3, 6]\n",
      "[1, 2, 3, 6]\n",
      "[4, 6]\n",
      "[1, 4, 6]\n",
      "[2, 4, 6]\n",
      "[1, 2, 4, 6]\n",
      "[3, 4, 6]\n",
      "[1, 3, 4, 6]\n",
      "[2, 3, 4, 6]\n",
      "[1, 2, 3, 4, 6]\n",
      "[5, 6]\n",
      "[1, 5, 6]\n",
      "[2, 5, 6]\n",
      "[1, 2, 5, 6]\n",
      "[3, 5, 6]\n",
      "[1, 3, 5, 6]\n",
      "[2, 3, 5, 6]\n",
      "[1, 2, 3, 5, 6]\n",
      "[4, 5, 6]\n",
      "[1, 4, 5, 6]\n",
      "[2, 4, 5, 6]\n",
      "[1, 2, 4, 5, 6]\n",
      "[3, 4, 5, 6]\n",
      "[1, 3, 4, 5, 6]\n",
      "[2, 3, 4, 5, 6]\n",
      "[1, 2, 3, 4, 5, 6]\n",
      "[7]\n",
      "[1, 7]\n",
      "[2, 7]\n",
      "[1, 2, 7]\n",
      "[3, 7]\n",
      "[1, 3, 7]\n",
      "[2, 3, 7]\n",
      "[1, 2, 3, 7]\n",
      "[4, 7]\n",
      "[1, 4, 7]\n",
      "[2, 4, 7]\n",
      "[1, 2, 4, 7]\n",
      "[3, 4, 7]\n",
      "[1, 3, 4, 7]\n",
      "[2, 3, 4, 7]\n",
      "[1, 2, 3, 4, 7]\n",
      "[5, 7]\n",
      "[1, 5, 7]\n",
      "[2, 5, 7]\n",
      "[1, 2, 5, 7]\n",
      "[3, 5, 7]\n",
      "[1, 3, 5, 7]\n",
      "[2, 3, 5, 7]\n",
      "[1, 2, 3, 5, 7]\n",
      "[4, 5, 7]\n",
      "[1, 4, 5, 7]\n",
      "[2, 4, 5, 7]\n",
      "[1, 2, 4, 5, 7]\n",
      "[3, 4, 5, 7]\n",
      "[1, 3, 4, 5, 7]\n",
      "[2, 3, 4, 5, 7]\n",
      "[1, 2, 3, 4, 5, 7]\n",
      "[6, 7]\n",
      "[1, 6, 7]\n",
      "[2, 6, 7]\n",
      "[1, 2, 6, 7]\n",
      "[3, 6, 7]\n",
      "[1, 3, 6, 7]\n",
      "[2, 3, 6, 7]\n",
      "[1, 2, 3, 6, 7]\n",
      "[4, 6, 7]\n",
      "[1, 4, 6, 7]\n",
      "[2, 4, 6, 7]\n",
      "[1, 2, 4, 6, 7]\n",
      "[3, 4, 6, 7]\n",
      "[1, 3, 4, 6, 7]\n",
      "[2, 3, 4, 6, 7]\n",
      "[1, 2, 3, 4, 6, 7]\n",
      "[5, 6, 7]\n",
      "[1, 5, 6, 7]\n",
      "[2, 5, 6, 7]\n",
      "[1, 2, 5, 6, 7]\n",
      "[3, 5, 6, 7]\n",
      "[1, 3, 5, 6, 7]\n",
      "[2, 3, 5, 6, 7]\n",
      "[1, 2, 3, 5, 6, 7]\n",
      "[4, 5, 6, 7]\n",
      "[1, 4, 5, 6, 7]\n",
      "[2, 4, 5, 6, 7]\n",
      "[1, 2, 4, 5, 6, 7]\n",
      "[3, 4, 5, 6, 7]\n",
      "[1, 3, 4, 5, 6, 7]\n",
      "[2, 3, 4, 5, 6, 7]\n",
      "[1, 2, 3, 4, 5, 6, 7]\n",
      "None\n"
     ]
    }
   ],
   "source": [
    "#Professionally done by an expert on stack-overflow using bitwise operations in a few lines\n",
    "\n",
    "\n",
    "def powerset(s):\n",
    "    x = len(s)\n",
    "    for i in range(1 << x):\n",
    "        print([s[j] for j in range(x) if (i & (1 << j))])\n",
    "       \n",
    "        \n",
    "        \n",
    "t=[1,2,3,4,5,6,7]\n",
    "print(powerset(t))"
   ]
  },
  {
   "cell_type": "code",
   "execution_count": 60,
   "metadata": {},
   "outputs": [
    {
     "data": {
      "text/plain": [
       "1"
      ]
     },
     "execution_count": 60,
     "metadata": {},
     "output_type": "execute_result"
    }
   ],
   "source": [
    "1<<0"
   ]
  },
  {
   "cell_type": "code",
   "execution_count": 85,
   "metadata": {},
   "outputs": [
    {
     "data": {
      "text/plain": [
       "0"
      ]
     },
     "execution_count": 85,
     "metadata": {},
     "output_type": "execute_result"
    }
   ],
   "source": [
    "1&4"
   ]
  }
 ],
 "metadata": {
  "kernelspec": {
   "display_name": "Python 3",
   "language": "python",
   "name": "python3"
  },
  "language_info": {
   "codemirror_mode": {
    "name": "ipython",
    "version": 3
   },
   "file_extension": ".py",
   "mimetype": "text/x-python",
   "name": "python",
   "nbconvert_exporter": "python",
   "pygments_lexer": "ipython3",
   "version": "3.7.3"
  }
 },
 "nbformat": 4,
 "nbformat_minor": 2
}
