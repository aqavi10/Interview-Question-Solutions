{
 "cells": [
  {
   "cell_type": "markdown",
   "metadata": {},
   "source": [
    "# How do I expand this monthly table(Table A) into a daily table(Table B) that spreads revenue across the 30 day period?"
   ]
  },
  {
   "cell_type": "code",
   "execution_count": null,
   "metadata": {},
   "outputs": [],
   "source": [
    "Table A\n",
    "index   Month   Revenue ($)\n",
    "0          1    300\n",
    "1          2    330\n",
    "2          3    390"
   ]
  },
  {
   "cell_type": "code",
   "execution_count": null,
   "metadata": {},
   "outputs": [],
   "source": [
    "Table B\n",
    "index   Month   Day Revenue ($)\n",
    "0         1      1   10\n",
    "1         1      2   10\n",
    "2         1      3   10\n",
    "...      ...    ... ...\n",
    "30        2      1   11\n",
    "31        2      2   11\n",
    "...      ...    ... ...\n",
    "60        3      1   13\n",
    "...      ...    ... ...\n",
    "89        3     30   13"
   ]
  },
  {
   "cell_type": "markdown",
   "metadata": {},
   "source": [
    "## Solution"
   ]
  },
  {
   "cell_type": "code",
   "execution_count": null,
   "metadata": {},
   "outputs": [],
   "source": [
    "import pandas as pd\n",
    "import numpy as np"
   ]
  },
  {
   "cell_type": "code",
   "execution_count": 137,
   "metadata": {},
   "outputs": [],
   "source": [
    "#Creating a Dictionary to populate a dataframe\n",
    "data={'Month':[1,2,3],'Revenue':[300,330,390]}"
   ]
  },
  {
   "cell_type": "code",
   "execution_count": 138,
   "metadata": {},
   "outputs": [],
   "source": [
    "#Converting dictionary into dataframe\n",
    "df=pd.DataFrame(data)"
   ]
  },
  {
   "cell_type": "code",
   "execution_count": 139,
   "metadata": {},
   "outputs": [
    {
     "name": "stdout",
     "output_type": "stream",
     "text": [
      "   Month  Revenue\n",
      "0      1      300\n",
      "1      2      330\n",
      "2      3      390\n"
     ]
    }
   ],
   "source": [
    "print(df)"
   ]
  },
  {
   "cell_type": "code",
   "execution_count": 94,
   "metadata": {},
   "outputs": [],
   "source": [
    "##One-line chained method code\n",
    " ### df = pd.concat([df]*30).assign(Revenue=lambda x: x['Revenue'] / 30).sort_values('Month')"
   ]
  },
  {
   "cell_type": "code",
   "execution_count": 140,
   "metadata": {},
   "outputs": [],
   "source": [
    "#Concatenating dataframeby repeating it 30 times\n",
    "df2=pd.concat([df]*30)"
   ]
  },
  {
   "cell_type": "code",
   "execution_count": 141,
   "metadata": {},
   "outputs": [],
   "source": [
    "#Applying lambda function to divide revenue by 30 in each row\n",
    "df2=df2.assign(Revenue=lambda x: x['Revenue'] / 30)"
   ]
  },
  {
   "cell_type": "code",
   "execution_count": 142,
   "metadata": {},
   "outputs": [],
   "source": [
    "#Sort values in the dataframe 'Month' wise\n",
    "df2=df2.sort_values('Month')"
   ]
  },
  {
   "cell_type": "code",
   "execution_count": 145,
   "metadata": {},
   "outputs": [
    {
     "data": {
      "text/html": [
       "<div>\n",
       "<style scoped>\n",
       "    .dataframe tbody tr th:only-of-type {\n",
       "        vertical-align: middle;\n",
       "    }\n",
       "\n",
       "    .dataframe tbody tr th {\n",
       "        vertical-align: top;\n",
       "    }\n",
       "\n",
       "    .dataframe thead th {\n",
       "        text-align: right;\n",
       "    }\n",
       "</style>\n",
       "<table border=\"1\" class=\"dataframe\">\n",
       "  <thead>\n",
       "    <tr style=\"text-align: right;\">\n",
       "      <th></th>\n",
       "      <th>Month</th>\n",
       "      <th>Revenue</th>\n",
       "      <th>day</th>\n",
       "    </tr>\n",
       "  </thead>\n",
       "  <tbody>\n",
       "    <tr>\n",
       "      <th>0</th>\n",
       "      <td>1</td>\n",
       "      <td>10.0</td>\n",
       "      <td>1</td>\n",
       "    </tr>\n",
       "    <tr>\n",
       "      <th>0</th>\n",
       "      <td>1</td>\n",
       "      <td>10.0</td>\n",
       "      <td>2</td>\n",
       "    </tr>\n",
       "    <tr>\n",
       "      <th>0</th>\n",
       "      <td>1</td>\n",
       "      <td>10.0</td>\n",
       "      <td>3</td>\n",
       "    </tr>\n",
       "    <tr>\n",
       "      <th>0</th>\n",
       "      <td>1</td>\n",
       "      <td>10.0</td>\n",
       "      <td>4</td>\n",
       "    </tr>\n",
       "    <tr>\n",
       "      <th>0</th>\n",
       "      <td>1</td>\n",
       "      <td>10.0</td>\n",
       "      <td>5</td>\n",
       "    </tr>\n",
       "  </tbody>\n",
       "</table>\n",
       "</div>"
      ],
      "text/plain": [
       "   Month  Revenue  day\n",
       "0      1     10.0    1\n",
       "0      1     10.0    2\n",
       "0      1     10.0    3\n",
       "0      1     10.0    4\n",
       "0      1     10.0    5"
      ]
     },
     "execution_count": 145,
     "metadata": {},
     "output_type": "execute_result"
    }
   ],
   "source": [
    "#Sneak-peek into the dataframe\n",
    "df2.head()"
   ]
  },
  {
   "cell_type": "code",
   "execution_count": 144,
   "metadata": {},
   "outputs": [
    {
     "name": "stdout",
     "output_type": "stream",
     "text": [
      "    Month  Revenue  day\n",
      "0       1     10.0    1\n",
      "0       1     10.0    2\n",
      "0       1     10.0    3\n",
      "0       1     10.0    4\n",
      "0       1     10.0    5\n",
      "0       1     10.0    6\n",
      "0       1     10.0    7\n",
      "0       1     10.0    8\n",
      "0       1     10.0    9\n",
      "0       1     10.0   10\n",
      "0       1     10.0   11\n",
      "0       1     10.0   12\n",
      "0       1     10.0   13\n",
      "0       1     10.0   14\n",
      "0       1     10.0   15\n",
      "0       1     10.0   16\n",
      "0       1     10.0   17\n",
      "0       1     10.0   18\n",
      "0       1     10.0   19\n",
      "0       1     10.0   20\n",
      "0       1     10.0   21\n",
      "0       1     10.0   22\n",
      "0       1     10.0   23\n",
      "0       1     10.0   24\n",
      "0       1     10.0   25\n",
      "0       1     10.0   26\n",
      "0       1     10.0   27\n",
      "0       1     10.0   28\n",
      "0       1     10.0   29\n",
      "0       1     10.0   30\n",
      "..    ...      ...  ...\n",
      "2       3     13.0    1\n",
      "2       3     13.0    2\n",
      "2       3     13.0    3\n",
      "2       3     13.0    4\n",
      "2       3     13.0    5\n",
      "2       3     13.0    6\n",
      "2       3     13.0    7\n",
      "2       3     13.0    8\n",
      "2       3     13.0    9\n",
      "2       3     13.0   10\n",
      "2       3     13.0   11\n",
      "2       3     13.0   12\n",
      "2       3     13.0   13\n",
      "2       3     13.0   14\n",
      "2       3     13.0   15\n",
      "2       3     13.0   16\n",
      "2       3     13.0   17\n",
      "2       3     13.0   18\n",
      "2       3     13.0   19\n",
      "2       3     13.0   20\n",
      "2       3     13.0   21\n",
      "2       3     13.0   22\n",
      "2       3     13.0   23\n",
      "2       3     13.0   24\n",
      "2       3     13.0   25\n",
      "2       3     13.0   26\n",
      "2       3     13.0   27\n",
      "2       3     13.0   28\n",
      "2       3     13.0   29\n",
      "2       3     13.0   30\n",
      "\n",
      "[90 rows x 3 columns]\n"
     ]
    }
   ],
   "source": [
    "#Adding the 'Day' column to populate dates between 1 and 30 and repeating it thrice since we wanted 3 months of data\n",
    "df2['day'] = [i for i in range(1, 31)] * 3\n",
    "\n",
    "print(df2)"
   ]
  }
 ],
 "metadata": {
  "kernelspec": {
   "display_name": "Python 3",
   "language": "python",
   "name": "python3"
  },
  "language_info": {
   "codemirror_mode": {
    "name": "ipython",
    "version": 3
   },
   "file_extension": ".py",
   "mimetype": "text/x-python",
   "name": "python",
   "nbconvert_exporter": "python",
   "pygments_lexer": "ipython3",
   "version": "3.7.3"
  }
 },
 "nbformat": 4,
 "nbformat_minor": 2
}
