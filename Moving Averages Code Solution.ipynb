{
 "cells": [
  {
   "cell_type": "code",
   "execution_count": null,
   "metadata": {},
   "outputs": [],
   "source": [
    "# You are given a list of numbers J and a single number p.\n",
    "# Write a function to return the minimum and maximum averages of the sequences of p numbers in the list J.\n",
    "\n",
    "# For example:\n",
    "\n",
    "# Array of numbers\n",
    "# J = [4, 4, 4, 9, 10, 11, 12]\n",
    "# # Length of sequences, p\n",
    "# p = 3\n",
    "# Here, the sequences will be:\n",
    "\n",
    "# (4,4,4)\n",
    "# (4,4,9)\n",
    "# (4,9,10)\n",
    "# (9,10,11)\n",
    "# (10,11,12)\n",
    "# From the above we can see that the minimum average will be 4 and the maximum average\n",
    "# will be 11, which corresponds to the first and last sequences."
   ]
  },
  {
   "cell_type": "code",
   "execution_count": 104,
   "metadata": {},
   "outputs": [],
   "source": [
    "#Function definition snippet\n",
    "\n",
    "def moving_averages(j,p):\n",
    "    \n",
    "    \"\"\"Moving averages of sequence of numbers \n",
    "    For example : If we have a list of j=[4,4,4,9,10,11,12]\n",
    "                  And we have a sequence number entered as p = 3,\n",
    "                  Then we need to find moving averages of (4,4,4) , (4,4,9), (4,9,10) .......\n",
    "                  Finally return the min and max average\n",
    "                  \"\"\"\n",
    "    \n",
    "    print('The sequential pairs for the list ',j,'and a sequence of',p ,'elements in a pair are:')\n",
    "    avg=[]\n",
    "\n",
    "    for i in range (len(j)-p+1):\n",
    "        x=[]\n",
    "        for m in range(p):\n",
    "            print(j[i+m],end=' ')\n",
    "            x.append(j[i+m])\n",
    "        print('\\n')\n",
    "        avg.append(mean(x))\n",
    "\n",
    "    print('Average of each pairs are : ',avg)\n",
    "    print('Min average is : ',min(avg))\n",
    "    print('Max average is : ',max(avg))\n",
    "        "
   ]
  },
  {
   "cell_type": "code",
   "execution_count": 106,
   "metadata": {},
   "outputs": [
    {
     "name": "stdout",
     "output_type": "stream",
     "text": [
      "The sequential pairs for the list  [1, 2, 3, 4, 5, 6, 7, 8] and a sequence of 5 elements in a pair are:\n",
      "1 2 3 4 5 \n",
      "\n",
      "2 3 4 5 6 \n",
      "\n",
      "3 4 5 6 7 \n",
      "\n",
      "4 5 6 7 8 \n",
      "\n",
      "Average of each pairs are :  [3, 4, 5, 6]\n",
      "Min average is :  3\n",
      "Max average is :  6\n"
     ]
    }
   ],
   "source": [
    "#Execution of code where the function is called\n",
    "\n",
    "\n",
    "from statistics import mean\n",
    "m=[1,2,3,4,5,6,7,8]\n",
    "n=5\n",
    "moving_averages(m,n)"
   ]
  }
 ],
 "metadata": {
  "kernelspec": {
   "display_name": "Python 3",
   "language": "python",
   "name": "python3"
  },
  "language_info": {
   "codemirror_mode": {
    "name": "ipython",
    "version": 3
   },
   "file_extension": ".py",
   "mimetype": "text/x-python",
   "name": "python",
   "nbconvert_exporter": "python",
   "pygments_lexer": "ipython3",
   "version": "3.7.3"
  }
 },
 "nbformat": 4,
 "nbformat_minor": 2
}
